{
  "cells": [
    {
      "cell_type": "code",
      "execution_count": null,
      "metadata": {
        "id": "D6vC520OPeTa"
      },
      "outputs": [],
      "source": [
        "class BTNode:\n",
        "  def __init__(self, elem):\n",
        "    self.elem = elem\n",
        "    self.right = None\n",
        "    self.left = None"
      ]
    },
    {
      "cell_type": "code",
      "execution_count": null,
      "metadata": {
        "id": "UDTKlm4-PfNM"
      },
      "outputs": [],
      "source": [
        "def inorder(root):\n",
        "  if root == None:\n",
        "    return\n",
        "\n",
        "  inorder(root.left)\n",
        "  print(root.elem, end = ' ')\n",
        "  inorder(root.right)"
      ]
    },
    {
      "cell_type": "code",
      "execution_count": null,
      "metadata": {
        "id": "Rtc22SPzPgzM",
        "outputId": "ef5d5bbc-734d-4bc4-e260-51922ce71828",
        "colab": {
          "base_uri": "https://localhost:8080/"
        }
      },
      "outputs": [
        {
          "output_type": "stream",
          "name": "stdout",
          "text": [
            "H D B E A I F J C G k "
          ]
        }
      ],
      "source": [
        "def tree_construction(arr, i = 1):\n",
        "  if i>=len(arr) or arr[i] == None:\n",
        "    return None\n",
        "  p = BTNode(arr[i])\n",
        "  p.left = tree_construction(arr, 2*i)\n",
        "  p.right = tree_construction(arr, 2*i+1)\n",
        "  return p\n",
        "\n",
        "\n",
        "root2 = tree_construction([None, 'A', 'B', 'C', 'D', 'E', 'F', 'G', 'H', None, None, None, 'I', 'J', None, 'k'])\n",
        "inorder(root2)"
      ]
    },
    {
      "cell_type": "markdown",
      "metadata": {
        "id": "S2nNCJNhPqGq"
      },
      "source": [
        "Task 1"
      ]
    },
    {
      "cell_type": "code",
      "execution_count": null,
      "metadata": {
        "id": "zbBHU3FoPieb",
        "outputId": "df572c53-bc8b-44fa-d597-55f0a019000f",
        "colab": {
          "base_uri": "https://localhost:8080/"
        }
      },
      "outputs": [
        {
          "output_type": "stream",
          "name": "stdout",
          "text": [
            "10\n",
            "15\n",
            "20\n",
            "25\n",
            "10\n"
          ]
        }
      ],
      "source": [
        "def LCA(root, x, y):\n",
        "  # print(root.elem,root.right.elem,root.left.elem)\n",
        "  #To Do\n",
        "\n",
        "   if root is None:\n",
        "     return None\n",
        "\n",
        "   elif x>root.elem and y>root.elem:\n",
        "    #  print(root.right.elem,x,y)\n",
        "\n",
        "     out=LCA(root.right,x,y)\n",
        "     return out\n",
        "\n",
        "   elif x<root.elem and y<root.elem:\n",
        "    #  print(root.left.elem,x,y)\n",
        "     out=LCA(root.left,x,y)\n",
        "     return out\n",
        "   return root.elem\n",
        "\n",
        "\n",
        "\n",
        "\n",
        "\n",
        "\n",
        "#DRIVER CODE\n",
        "root = BTNode(15)\n",
        "root.left = BTNode(10)\n",
        "root.right=BTNode(25)\n",
        "root.left.left = BTNode(8)\n",
        "#Write by yourself from the given tree (Create parent node and its corresponding left and right children nodes)\n",
        "#check all the sample inputs given\n",
        "#You can take help by seeing the driver code of Lab-6\n",
        "\n",
        "root.left.right=BTNode(12)\n",
        "\n",
        "root.left.left.left=BTNode(6)\n",
        "root.left.left.right=BTNode(9)\n",
        "\n",
        "root.right.right=BTNode(30)\n",
        "root.right.left=BTNode(20)\n",
        "\n",
        "root.right.left.left=BTNode(18)\n",
        "root.right.left.right=BTNode(22)\n",
        "\n",
        "print(LCA(root,6,12))\n",
        "print(LCA(root,20,6))\n",
        "print(LCA(root,18,22))\n",
        "print(LCA(root,20,25))\n",
        "print(LCA(root,10,12))\n",
        "\n",
        "\n",
        "# inorder(root)\n",
        "# print()\n",
        "\n"
      ]
    },
    {
      "cell_type": "markdown",
      "metadata": {
        "id": "c-TBf3m0PrtK"
      },
      "source": [
        "Task 2"
      ]
    },
    {
      "cell_type": "code",
      "source": [
        "\n",
        "\n",
        "def find_path(root, key):\n",
        "    if root is None:\n",
        "        return \"No path found!\"\n",
        "\n",
        "    if root.elem == key:\n",
        "        return [key]\n",
        "\n",
        "    if root.elem > key:\n",
        "        left = find_path(root.left, key)\n",
        "        if left != \"No path found!\":\n",
        "            return [root.elem] + left\n",
        "\n",
        "\n",
        "    elif root.elem < key:\n",
        "        right = find_path(root.right, key)\n",
        "        if right != \"No path found!\":\n",
        "            return [root.elem] + right\n",
        "\n",
        "    return \"No path found!\"\n",
        "\n",
        "\n",
        "\n",
        "\n",
        "\n",
        "\n",
        "\n",
        "\n",
        "\n",
        "\n",
        "\n",
        "\n",
        "#DRIVER CODE\n",
        "#Write by yourself from the given tree\n",
        "\n",
        "root = BTNode(30)\n",
        "root.left = BTNode(10)\n",
        "root.right=BTNode(40)\n",
        "root.left.left = BTNode(3)\n",
        "#Write by yourself from the given tree (Create parent node and its corresponding left and right children nodes)\n",
        "#check all the sample inputs given\n",
        "#You can take help by seeing the driver code of Lab-6\n",
        "\n",
        "root.left.right=BTNode(15)\n",
        "\n",
        "\n",
        "\n",
        "root.right.right=BTNode(55)\n",
        "root.right.left=BTNode(35)\n",
        "\n",
        "\n",
        "\n",
        "\n",
        "\n",
        "\n",
        "\n",
        "print(find_path(root,15))\n",
        "#This should print [30,10,15]\n",
        "\n",
        "print(find_path(root,50))\n",
        "#This should print No Path Found"
      ],
      "metadata": {
        "id": "i6l-v7k1eE9A",
        "outputId": "b87295fa-c4c7-4ddd-b62b-e8a503c67448",
        "colab": {
          "base_uri": "https://localhost:8080/"
        }
      },
      "execution_count": null,
      "outputs": [
        {
          "output_type": "stream",
          "name": "stdout",
          "text": [
            "[30, 10, 15]\n",
            "No path found!\n"
          ]
        }
      ]
    },
    {
      "cell_type": "markdown",
      "metadata": {
        "id": "7r3lH3aWPz2d"
      },
      "source": [
        "Task 3"
      ]
    },
    {
      "cell_type": "code",
      "source": [
        "def sum_of_leaves(root, sum):\n",
        "  #To Do\n",
        "\n",
        "  if root is None:\n",
        "    return 0\n",
        "\n",
        "  elif root.left ==None and root.right==None:\n",
        "    return root.elem\n",
        "\n",
        "  o=sum_of_leaves(root.left,sum)\n",
        "  p=sum_of_leaves(root.right,sum)\n",
        "\n",
        "  return o+p\n",
        "\n",
        "\n",
        "\n",
        "\n",
        "root = BTNode(30)\n",
        "root.left = BTNode(10)\n",
        "root.right=BTNode(40)\n",
        "root.left.left = BTNode(3)\n",
        "#Write by yourself from the given tree (Create parent node and its corresponding left and right children nodes)\n",
        "#check all the sample inputs given\n",
        "#You can take help by seeing the driver code of Lab-6\n",
        "\n",
        "root.left.right=BTNode(15)\n",
        "\n",
        "\n",
        "\n",
        "root.left.left.left=BTNode(2)\n",
        "root.left.right=BTNode(15)\n",
        "\n",
        "root.right.right=BTNode(55)\n",
        "root.right.left=BTNode(35)\n",
        "root.right.left.right=BTNode(36)\n",
        "\n",
        "\n",
        "#DRIVER CODE\n",
        "#Write by yourself from the given tree\n",
        "\n",
        "print(sum_of_leaves(root, 0))"
      ],
      "metadata": {
        "id": "5eT12zYb8zm7",
        "outputId": "743ed6dd-fd8c-4e9e-95b9-e9f4523ce218",
        "colab": {
          "base_uri": "https://localhost:8080/"
        }
      },
      "execution_count": null,
      "outputs": [
        {
          "output_type": "stream",
          "name": "stdout",
          "text": [
            "108\n"
          ]
        }
      ]
    },
    {
      "cell_type": "markdown",
      "metadata": {
        "id": "5KeA-BoC3uOo"
      },
      "source": [
        "Task 4"
      ]
    },
    {
      "cell_type": "code",
      "execution_count": null,
      "metadata": {
        "id": "zFwP64v4Pu6d",
        "outputId": "02295cba-31b1-4198-8990-640b573a684c",
        "colab": {
          "base_uri": "https://localhost:8080/"
        }
      },
      "outputs": [
        {
          "output_type": "stream",
          "name": "stdout",
          "text": [
            "Given Tree Inorder Traversal:  4 8 10 12 14 20 22 \n",
            "Inorder predecessor of node 20: 14\n",
            "Inorder predecessor of node 14: 12\n",
            "Inorder predecessor of node 10: 8\n",
            "Given Tree Inorder Traversal:  4 8 10 12 14 20 22 \n",
            "Inorder predecessor of node 20: 14\n",
            "Inorder predecessor of node 14: 12\n",
            "Inorder predecessor of node 10: 8\n"
          ]
        }
      ],
      "source": [
        "\n",
        "def inorder_predecessor(root, x):\n",
        "    def helper(root, x, y=None):\n",
        "        if root is None:\n",
        "            return y\n",
        "\n",
        "        if x.elem <=root.elem:\n",
        "\n",
        "            return helper(root.left, x, y)\n",
        "        else:\n",
        "\n",
        "            return helper(root.right, x, root)\n",
        "\n",
        "    return helper(root, x, y=None)\n",
        "\n",
        "\n",
        "\n",
        "# DRIVER CODE\n",
        "root = BTNode(20)\n",
        "n1 = BTNode(8)\n",
        "n2 = BTNode(22)\n",
        "n3 = BTNode(4)\n",
        "n4 = BTNode(12)\n",
        "n5 = BTNode(10)\n",
        "n6 = BTNode(14)\n",
        "\n",
        "root.left = n1\n",
        "root.right = n2\n",
        "\n",
        "n1.left = n3\n",
        "n1.right = n4\n",
        "\n",
        "n4.left = n5\n",
        "n4.right = n6\n",
        "\n",
        "print('Given Tree Inorder Traversal: ', end = ' ')\n",
        "inorder(root)  # Given Tree Inorder Traversal:  4 8 10 12 14 20 22\n",
        "print()\n",
        "\n",
        "x = root\n",
        "print(f'Inorder predecessor of node {x.elem}: {inorder_predecessor(root, x).elem}')  # Inorder predecessor of node 20: 14\n",
        "x = root.left.right.right\n",
        "print(f'Inorder predecessor of node {x.elem}: {inorder_predecessor(root, x).elem}')  # Inorder predecessor of node 14: 12\n",
        "x = root.left.right.left\n",
        "print(f'Inorder predecessor of node {x.elem}: {inorder_predecessor(root, x).elem}')  # Inorder predecessor of node 10: 8\n",
        "\n",
        "\n",
        "\n",
        "\n",
        "\n",
        "\n",
        "\n",
        "\n",
        "\n",
        "\n",
        "\n",
        "\n",
        "\n",
        "#DRIVER CODE\n",
        "root = BTNode(20)\n",
        "n1 = BTNode(8)\n",
        "n2 = BTNode(22)\n",
        "n3 = BTNode(4)\n",
        "n4 = BTNode(12)\n",
        "n5 = BTNode(10)\n",
        "n6 = BTNode(14)\n",
        "\n",
        "root.left = n1\n",
        "root.right = n2\n",
        "\n",
        "n1.left = n3\n",
        "n1.right = n4\n",
        "\n",
        "n4.left = n5\n",
        "n4.right = n6\n",
        "\n",
        "print('Given Tree Inorder Traversal: ', end = ' ')\n",
        "inorder(root) #Given Tree Inorder Traversal:  4 8 10 12 14 20 22\n",
        "print()\n",
        "\n",
        "x = root\n",
        "print(f'Inorder predecessor of node {x.elem}: {inorder_predecessor(root, x).elem}') #Inorder predecessor of node 20: 14\n",
        "x = root.left.right.right\n",
        "print(f'Inorder predecessor of node {x.elem}: {inorder_predecessor(root, x).elem}') #Inorder predecessor of node 14: 12\n",
        "x = root.left.right.left\n",
        "print(f'Inorder predecessor of node {x.elem}: {inorder_predecessor(root, x).elem}') #Inorder predecessor of node 10: 8"
      ]
    }
  ],
  "metadata": {
    "colab": {
      "provenance": []
    },
    "kernelspec": {
      "display_name": "Python 3",
      "name": "python3"
    },
    "language_info": {
      "name": "python"
    }
  },
  "nbformat": 4,
  "nbformat_minor": 0
}